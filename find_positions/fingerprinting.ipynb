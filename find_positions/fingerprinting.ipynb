{
 "cells": [
  {
   "cell_type": "code",
   "execution_count": 1,
   "metadata": {
    "ExecuteTime": {
     "end_time": "2020-06-13T02:12:49.008859Z",
     "start_time": "2020-06-13T02:12:46.805253Z"
    }
   },
   "outputs": [],
   "source": [
    "import psycopg2\n",
    "import pandas as pd\n",
    "import numpy as np\n",
    "from sklearn import model_selection\n",
    "from sklearn.utils import shuffle\n",
    "from sklearn.svm import SVC\n",
    "from sklearn.metrics import confusion_matrix,classification_report\n",
    "from sklearn.model_selection import cross_val_score, GridSearchCV"
   ]
  },
  {
   "cell_type": "markdown",
   "metadata": {},
   "source": [
    "# connect to db "
   ]
  },
  {
   "cell_type": "code",
   "execution_count": 2,
   "metadata": {
    "ExecuteTime": {
     "end_time": "2020-06-13T02:12:50.233039Z",
     "start_time": "2020-06-13T02:12:50.184621Z"
    }
   },
   "outputs": [],
   "source": [
    "host = 'localhost'\n",
    "port = 5432\n",
    "user = 'postgres'\n",
    "password = ''\n",
    "db_name = 'ble_rssi'\n",
    "conn = psycopg2.connect(host=host, port=port, user=user, password=password, database=db_name)"
   ]
  },
  {
   "cell_type": "markdown",
   "metadata": {},
   "source": [
    "# create df\n"
   ]
  },
  {
   "cell_type": "code",
   "execution_count": 3,
   "metadata": {
    "ExecuteTime": {
     "end_time": "2020-06-13T02:12:51.897509Z",
     "start_time": "2020-06-13T02:12:51.800788Z"
    }
   },
   "outputs": [],
   "source": [
    "query = \"select * from rssi_log where (card_x=1 and card_y=1) or (card_x=4.25 and card_y=2.45)\"\n",
    "card_pos = {3131: \"1_1\", 2292: \"4.25_2.45\"}\n",
    "classes = [\"1_1\", \"4.25_2.45\"]\n",
    "data = {\"msi-gt70\": [], \"raspberry-10\": [], \"erhan-e570\": [], \"class\": []}\n",
    "with conn.cursor() as cur:\n",
    "    cur.execute(query)\n",
    "    i = 0\n",
    "    for row in cur:\n",
    "        data[row[2]].append(row[3])\n",
    "        #data[\"rssi\"].append(row[3])\n",
    "        if i % 3 == 0:\n",
    "            data[\"class\"].append(card_pos[row[1]])\n",
    "        i+=1\n",
    "\n",
    "conn.commit()"
   ]
  },
  {
   "cell_type": "code",
   "execution_count": 4,
   "metadata": {
    "ExecuteTime": {
     "end_time": "2020-06-13T02:12:53.886462Z",
     "start_time": "2020-06-13T02:12:53.874248Z"
    }
   },
   "outputs": [
    {
     "name": "stdout",
     "output_type": "stream",
     "text": [
      "msi-gt70: 976\n",
      "raspberry-10: 976\n",
      "erhan-e570: 976\n",
      "class: 976\n"
     ]
    }
   ],
   "source": [
    "for k,v in data.items():\n",
    "    print(f'{k}: {len(v)}')"
   ]
  },
  {
   "cell_type": "code",
   "execution_count": 5,
   "metadata": {
    "ExecuteTime": {
     "end_time": "2020-06-13T02:12:57.858682Z",
     "start_time": "2020-06-13T02:12:57.774962Z"
    }
   },
   "outputs": [
    {
     "data": {
      "text/html": [
       "<div>\n",
       "<style scoped>\n",
       "    .dataframe tbody tr th:only-of-type {\n",
       "        vertical-align: middle;\n",
       "    }\n",
       "\n",
       "    .dataframe tbody tr th {\n",
       "        vertical-align: top;\n",
       "    }\n",
       "\n",
       "    .dataframe thead th {\n",
       "        text-align: right;\n",
       "    }\n",
       "</style>\n",
       "<table border=\"1\" class=\"dataframe\">\n",
       "  <thead>\n",
       "    <tr style=\"text-align: right;\">\n",
       "      <th></th>\n",
       "      <th>msi-gt70</th>\n",
       "      <th>raspberry-10</th>\n",
       "      <th>erhan-e570</th>\n",
       "      <th>class</th>\n",
       "    </tr>\n",
       "  </thead>\n",
       "  <tbody>\n",
       "    <tr>\n",
       "      <th>0</th>\n",
       "      <td>-69.0</td>\n",
       "      <td>-57.5</td>\n",
       "      <td>-64.0</td>\n",
       "      <td>1_1</td>\n",
       "    </tr>\n",
       "    <tr>\n",
       "      <th>1</th>\n",
       "      <td>-65.5</td>\n",
       "      <td>-42.0</td>\n",
       "      <td>-48.5</td>\n",
       "      <td>1_1</td>\n",
       "    </tr>\n",
       "    <tr>\n",
       "      <th>2</th>\n",
       "      <td>-71.0</td>\n",
       "      <td>-59.0</td>\n",
       "      <td>-58.0</td>\n",
       "      <td>1_1</td>\n",
       "    </tr>\n",
       "    <tr>\n",
       "      <th>3</th>\n",
       "      <td>-67.5</td>\n",
       "      <td>-43.0</td>\n",
       "      <td>-60.0</td>\n",
       "      <td>1_1</td>\n",
       "    </tr>\n",
       "    <tr>\n",
       "      <th>4</th>\n",
       "      <td>-68.0</td>\n",
       "      <td>-41.0</td>\n",
       "      <td>-60.0</td>\n",
       "      <td>1_1</td>\n",
       "    </tr>\n",
       "    <tr>\n",
       "      <th>...</th>\n",
       "      <td>...</td>\n",
       "      <td>...</td>\n",
       "      <td>...</td>\n",
       "      <td>...</td>\n",
       "    </tr>\n",
       "    <tr>\n",
       "      <th>971</th>\n",
       "      <td>-63.0</td>\n",
       "      <td>-49.0</td>\n",
       "      <td>-51.0</td>\n",
       "      <td>4.25_2.45</td>\n",
       "    </tr>\n",
       "    <tr>\n",
       "      <th>972</th>\n",
       "      <td>-64.0</td>\n",
       "      <td>-56.0</td>\n",
       "      <td>-49.0</td>\n",
       "      <td>4.25_2.45</td>\n",
       "    </tr>\n",
       "    <tr>\n",
       "      <th>973</th>\n",
       "      <td>-64.0</td>\n",
       "      <td>-51.5</td>\n",
       "      <td>-48.5</td>\n",
       "      <td>4.25_2.45</td>\n",
       "    </tr>\n",
       "    <tr>\n",
       "      <th>974</th>\n",
       "      <td>-64.0</td>\n",
       "      <td>-60.0</td>\n",
       "      <td>-45.0</td>\n",
       "      <td>4.25_2.45</td>\n",
       "    </tr>\n",
       "    <tr>\n",
       "      <th>975</th>\n",
       "      <td>-65.0</td>\n",
       "      <td>-61.0</td>\n",
       "      <td>-45.0</td>\n",
       "      <td>4.25_2.45</td>\n",
       "    </tr>\n",
       "  </tbody>\n",
       "</table>\n",
       "<p>976 rows × 4 columns</p>\n",
       "</div>"
      ],
      "text/plain": [
       "     msi-gt70  raspberry-10  erhan-e570      class\n",
       "0       -69.0         -57.5       -64.0        1_1\n",
       "1       -65.5         -42.0       -48.5        1_1\n",
       "2       -71.0         -59.0       -58.0        1_1\n",
       "3       -67.5         -43.0       -60.0        1_1\n",
       "4       -68.0         -41.0       -60.0        1_1\n",
       "..        ...           ...         ...        ...\n",
       "971     -63.0         -49.0       -51.0  4.25_2.45\n",
       "972     -64.0         -56.0       -49.0  4.25_2.45\n",
       "973     -64.0         -51.5       -48.5  4.25_2.45\n",
       "974     -64.0         -60.0       -45.0  4.25_2.45\n",
       "975     -65.0         -61.0       -45.0  4.25_2.45\n",
       "\n",
       "[976 rows x 4 columns]"
      ]
     },
     "execution_count": 5,
     "metadata": {},
     "output_type": "execute_result"
    }
   ],
   "source": [
    "df = pd.DataFrame(data=data , columns=[\"msi-gt70\", \"raspberry-10\", \"erhan-e570\", \"class\"])\n",
    "df"
   ]
  },
  {
   "cell_type": "markdown",
   "metadata": {},
   "source": [
    "# x,y train&test "
   ]
  },
  {
   "cell_type": "code",
   "execution_count": 6,
   "metadata": {
    "ExecuteTime": {
     "end_time": "2020-06-13T02:13:01.391771Z",
     "start_time": "2020-06-13T02:13:01.371395Z"
    }
   },
   "outputs": [],
   "source": [
    "features = [\"msi-gt70\", \"raspberry-10\", \"erhan-e570\"]\n",
    "# get features\n",
    "x = df.loc[:,features].values\n",
    "# get target\n",
    "y = df.loc[:,['class']].values"
   ]
  },
  {
   "cell_type": "code",
   "execution_count": 7,
   "metadata": {
    "ExecuteTime": {
     "end_time": "2020-06-13T02:13:01.947528Z",
     "start_time": "2020-06-13T02:13:01.921422Z"
    }
   },
   "outputs": [
    {
     "name": "stdout",
     "output_type": "stream",
     "text": [
      "Dimension of Train set (780, 3)\n",
      "Dimension of Test set (196, 3) \n",
      "\n"
     ]
    }
   ],
   "source": [
    "# 80% train, 20% test \n",
    "x_train, x_test, y_train, y_test = model_selection.train_test_split(x, y, test_size=0.2, random_state=0)\n",
    "\n",
    "# Dimension of Train and Test set \n",
    "print(\"Dimension of Train set\",x_train.shape)\n",
    "print(\"Dimension of Test set\",x_test.shape,\"\\n\")"
   ]
  },
  {
   "cell_type": "code",
   "execution_count": 8,
   "metadata": {
    "ExecuteTime": {
     "end_time": "2020-06-13T02:13:02.463782Z",
     "start_time": "2020-06-13T02:13:02.450600Z"
    }
   },
   "outputs": [],
   "source": [
    "x_train = pd.DataFrame(data=x_train[0:,0:],\n",
    "            index=[i for i in range(x_train.shape[0])],\n",
    "            columns=features)"
   ]
  },
  {
   "cell_type": "code",
   "execution_count": 9,
   "metadata": {
    "ExecuteTime": {
     "end_time": "2020-06-13T02:13:05.112415Z",
     "start_time": "2020-06-13T02:13:05.092460Z"
    }
   },
   "outputs": [],
   "source": [
    "y_train_label = pd.DataFrame(data=y_train[0:,0:],\n",
    "            index=[i for i in range(y_train.shape[0])],\n",
    "            columns=['class'])\n",
    "y_train_label = y_train_label['class'].values.astype(object)"
   ]
  },
  {
   "cell_type": "code",
   "execution_count": 10,
   "metadata": {
    "ExecuteTime": {
     "end_time": "2020-06-13T02:13:05.526699Z",
     "start_time": "2020-06-13T02:13:05.507666Z"
    }
   },
   "outputs": [],
   "source": [
    "y_test_label = pd.DataFrame(data=y_test[0:,0:],\n",
    "            index=[i for i in range(y_test.shape[0])],\n",
    "            columns=['class'])\n",
    "y_test_label = y_test_label['class'].values.astype(object)"
   ]
  },
  {
   "cell_type": "code",
   "execution_count": 11,
   "metadata": {
    "ExecuteTime": {
     "end_time": "2020-06-13T02:13:06.053683Z",
     "start_time": "2020-06-13T02:13:06.006616Z"
    }
   },
   "outputs": [
    {
     "name": "stdout",
     "output_type": "stream",
     "text": [
      "Number of numeric features: 3\n"
     ]
    },
    {
     "name": "stderr",
     "output_type": "stream",
     "text": [
      "/home/gungorerhan/.local/lib/python3.8/site-packages/sklearn/preprocessing/_label.py:235: DataConversionWarning: A column-vector y was passed when a 1d array was expected. Please change the shape of y to (n_samples, ), for example using ravel().\n",
      "  y = column_or_1d(y, warn=True)\n"
     ]
    }
   ],
   "source": [
    "# Transforming non numerical labels into numerical labels\n",
    "from sklearn import preprocessing\n",
    "encoder = preprocessing.LabelEncoder()\n",
    "\n",
    "# encoding train labels \n",
    "encoder.fit(y_train)\n",
    "y_train = encoder.transform(y_train_label)\n",
    "\n",
    "# encoding test labels \n",
    "encoder.fit(classes)\n",
    "y_test = encoder.transform(y_test_label)\n",
    "\n",
    "#Total Number of Continous and Categorical features in the training set\n",
    "num_cols = x_train._get_numeric_data().columns\n",
    "print(\"Number of numeric features:\",num_cols.size)\n",
    "#list(set(X_train.columns) - set(num_cols))\n",
    "\n",
    "\n",
    "names_of_predictors = list(x_train.columns.values)\n",
    "\n",
    "# Scaling the Train and Test feature set \n",
    "#from sklearn.preprocessing import StandardScaler\n",
    "#scaler = StandardScaler()\n",
    "#x_train_scaled = scaler.fit_transform(x_train)\n",
    "#x_test_scaled = scaler.transform(x_test)"
   ]
  },
  {
   "cell_type": "markdown",
   "metadata": {},
   "source": [
    "# Hyperparameter tuning using grid search and cross validation"
   ]
  },
  {
   "cell_type": "code",
   "execution_count": 12,
   "metadata": {
    "ExecuteTime": {
     "end_time": "2020-06-13T02:14:01.111987Z",
     "start_time": "2020-06-13T02:13:10.993591Z"
    }
   },
   "outputs": [
    {
     "data": {
      "text/plain": [
       "GridSearchCV(cv=5, error_score=nan,\n",
       "             estimator=SVC(C=1.0, break_ties=False, cache_size=200,\n",
       "                           class_weight=None, coef0=0.0,\n",
       "                           decision_function_shape='ovr', degree=3,\n",
       "                           gamma='scale', kernel='rbf', max_iter=-1,\n",
       "                           probability=True, random_state=None, shrinking=True,\n",
       "                           tol=0.001, verbose=False),\n",
       "             iid='deprecated', n_jobs=None,\n",
       "             param_grid=[{'C': [1, 2, 5, 10], 'gamma': [0.001, 0.0001],\n",
       "                          'kernel': ['rbf']},\n",
       "                         {'C': [1, 10, 100, 1000], 'kernel': ['linear']}],\n",
       "             pre_dispatch='2*n_jobs', refit=True, return_train_score=False,\n",
       "             scoring=None, verbose=0)"
      ]
     },
     "execution_count": 12,
     "metadata": {},
     "output_type": "execute_result"
    }
   ],
   "source": [
    "#Libraries to Build Ensemble Model : Random Forest Classifier \n",
    "# Create the parameter grid based on the results of random search \n",
    "params_grid = [{'kernel': ['rbf'], 'gamma': [1e-3, 1e-4],\n",
    "                     'C': [1, 2, 5, 10]},\n",
    "                    {'kernel': ['linear'], 'C': [1, 10, 100, 1000]}]\n",
    "# Performing CV to tune parameters for best SVM fit \n",
    "svm_model = GridSearchCV(SVC(probability=True), params_grid, cv=5)\n",
    "svm_model.fit(x_train, y_train)"
   ]
  },
  {
   "cell_type": "markdown",
   "metadata": {},
   "source": [
    "# confusion matrix and accuracy score "
   ]
  },
  {
   "cell_type": "code",
   "execution_count": 13,
   "metadata": {
    "ExecuteTime": {
     "end_time": "2020-06-13T02:14:01.124303Z",
     "start_time": "2020-06-13T02:14:01.115039Z"
    }
   },
   "outputs": [
    {
     "name": "stdout",
     "output_type": "stream",
     "text": [
      "Best score for training data: 0.9371794871794872 \n",
      "\n",
      "Best C: 10 \n",
      "\n",
      "Best Kernel: rbf \n",
      "\n",
      "Best Gamma: 0.001 \n",
      "\n"
     ]
    }
   ],
   "source": [
    "# View the accuracy score\n",
    "print('Best score for training data:', svm_model.best_score_,\"\\n\") \n",
    "\n",
    "# View the best parameters for the model found using grid search\n",
    "print('Best C:',svm_model.best_estimator_.C,\"\\n\") \n",
    "print('Best Kernel:',svm_model.best_estimator_.kernel,\"\\n\")\n",
    "print('Best Gamma:',svm_model.best_estimator_.gamma,\"\\n\")\n",
    "\n",
    "final_model = svm_model.best_estimator_\n",
    "y_pred = final_model.predict(x_test)\n",
    "y_pred_label = list(encoder.inverse_transform(y_pred))"
   ]
  },
  {
   "cell_type": "code",
   "execution_count": 16,
   "metadata": {
    "ExecuteTime": {
     "end_time": "2020-06-13T02:14:20.843861Z",
     "start_time": "2020-06-13T02:14:20.752267Z"
    }
   },
   "outputs": [
    {
     "name": "stdout",
     "output_type": "stream",
     "text": [
      "[[ 26   6]\n",
      " [  5 159]]\n",
      "\n",
      "\n",
      "              precision    recall  f1-score   support\n",
      "\n",
      "         1_1       0.84      0.81      0.83        32\n",
      "   4.25_2.45       0.96      0.97      0.97       164\n",
      "\n",
      "    accuracy                           0.94       196\n",
      "   macro avg       0.90      0.89      0.90       196\n",
      "weighted avg       0.94      0.94      0.94       196\n",
      "\n",
      "Training set score for SVM: 0.942308\n",
      "Testing set score for SVM: 0.943878\n"
     ]
    },
    {
     "data": {
      "text/plain": [
       "<bound method BaseSearchCV.score of GridSearchCV(cv=5, error_score=nan,\n",
       "             estimator=SVC(C=1.0, break_ties=False, cache_size=200,\n",
       "                           class_weight=None, coef0=0.0,\n",
       "                           decision_function_shape='ovr', degree=3,\n",
       "                           gamma='scale', kernel='rbf', max_iter=-1,\n",
       "                           probability=True, random_state=None, shrinking=True,\n",
       "                           tol=0.001, verbose=False),\n",
       "             iid='deprecated', n_jobs=None,\n",
       "             param_grid=[{'C': [1, 2, 5, 10], 'gamma': [0.001, 0.0001],\n",
       "                          'kernel': ['rbf']},\n",
       "                         {'C': [1, 10, 100, 1000], 'kernel': ['linear']}],\n",
       "             pre_dispatch='2*n_jobs', refit=True, return_train_score=False,\n",
       "             scoring=None, verbose=0)>"
      ]
     },
     "execution_count": 16,
     "metadata": {},
     "output_type": "execute_result"
    }
   ],
   "source": [
    "# Making the Confusion Matrix\n",
    "print(confusion_matrix(y_test_label, y_pred_label))\n",
    "print(\"\\n\")\n",
    "print(classification_report(y_test_label, y_pred_label))\n",
    "\n",
    "print(\"Training set score for SVM: %f\" % final_model.score(x_train, y_train))\n",
    "print(\"Testing set score for SVM: %f\" % final_model.score(x_test, y_test))\n",
    "\n",
    "svm_model.score"
   ]
  },
  {
   "cell_type": "code",
   "execution_count": 17,
   "metadata": {
    "ExecuteTime": {
     "end_time": "2020-06-13T02:14:24.552505Z",
     "start_time": "2020-06-13T02:14:24.516038Z"
    }
   },
   "outputs": [
    {
     "data": {
      "text/plain": [
       "array([[0.54891892, 0.45108108]])"
      ]
     },
     "execution_count": 17,
     "metadata": {},
     "output_type": "execute_result"
    }
   ],
   "source": [
    "# single prediction\n",
    "vals = [-65, -54, -55]\n",
    "temp = np.array(vals).reshape(1,3)\n",
    "temp = pd.DataFrame(data=temp,\n",
    "            index=[i for i in range(temp.shape[0])],\n",
    "            columns=features)\n",
    "prob = final_model.predict_proba(temp)\n",
    "prob"
   ]
  },
  {
   "cell_type": "markdown",
   "metadata": {},
   "source": [
    "# save the model - pickle "
   ]
  },
  {
   "cell_type": "code",
   "execution_count": 18,
   "metadata": {
    "ExecuteTime": {
     "end_time": "2020-06-13T02:14:28.267377Z",
     "start_time": "2020-06-13T02:14:28.257848Z"
    }
   },
   "outputs": [],
   "source": [
    "import pickle\n",
    "# save the model to disk\n",
    "filename = 'svm_final_model.sav'\n",
    "pickle.dump(final_model, open(filename, 'wb'))"
   ]
  }
 ],
 "metadata": {
  "kernelspec": {
   "display_name": "Python 3",
   "language": "python",
   "name": "python3"
  },
  "language_info": {
   "codemirror_mode": {
    "name": "ipython",
    "version": 3
   },
   "file_extension": ".py",
   "mimetype": "text/x-python",
   "name": "python",
   "nbconvert_exporter": "python",
   "pygments_lexer": "ipython3",
   "version": "3.8.3"
  }
 },
 "nbformat": 4,
 "nbformat_minor": 4
}
